{
  "nbformat": 4,
  "nbformat_minor": 0,
  "metadata": {
    "colab": {
      "provenance": []
    },
    "kernelspec": {
      "name": "python3",
      "display_name": "Python 3"
    },
    "language_info": {
      "name": "python"
    }
  },
  "cells": [
    {
      "cell_type": "code",
      "source": [
        "# NOTE: you CAN change this cell\n",
        "# If you want to use your own database, download it here\n",
        "# !gdown ...\n",
        "\n",
        "!gdown --fuzzy https://drive.google.com/file/d/1uxbTTuIi5PndOCFBa3g6ZxRjt8gMwhWl/view?usp=sharing\n",
        "!gdown --fuzzy https://drive.google.com/file/d/1O6QJinc8zpS1s__2L2NlmOZ_DLJTPX6O/view?usp=sharing\n",
        "!gdown --fuzzy https://drive.google.com/file/d/1BLVpAjqzwUZUcum8E5w6CcXjx2eL3etA/view?usp=sharing\n",
        "!gdown --fuzzy https://drive.google.com/file/d/1uZqPzXc97RDt3yRIb80xer_EgWXc9BnO/view?usp=sharing"
      ],
      "metadata": {
        "id": "i20WfB6lqiUy",
        "colab": {
          "base_uri": "https://localhost:8080/"
        },
        "outputId": "2d9f14a7-f608-466c-c146-3a65730d0355"
      },
      "execution_count": 11,
      "outputs": [
        {
          "output_type": "stream",
          "name": "stdout",
          "text": [
            "Downloading...\n",
            "From: https://drive.google.com/uc?id=1uxbTTuIi5PndOCFBa3g6ZxRjt8gMwhWl\n",
            "To: /content/database.csv\n",
            "100% 369k/369k [00:00<00:00, 6.61MB/s]\n",
            "Downloading...\n",
            "From: https://drive.google.com/uc?id=1O6QJinc8zpS1s__2L2NlmOZ_DLJTPX6O\n",
            "To: /content/list_district.txt\n",
            "100% 8.41k/8.41k [00:00<00:00, 25.0MB/s]\n",
            "Downloading...\n",
            "From: https://drive.google.com/uc?id=1BLVpAjqzwUZUcum8E5w6CcXjx2eL3etA\n",
            "To: /content/list_province.txt\n",
            "100% 813/813 [00:00<00:00, 3.47MB/s]\n",
            "Downloading...\n",
            "From: https://drive.google.com/uc?id=1uZqPzXc97RDt3yRIb80xer_EgWXc9BnO\n",
            "To: /content/list_ward.txt\n",
            "100% 95.2k/95.2k [00:00<00:00, 5.22MB/s]\n"
          ]
        }
      ]
    },
    {
      "cell_type": "code",
      "source": [
        "# NOTE: you CAN change this cell\n",
        "# Add more to your needs\n",
        "# you must place ALL pip install here\n",
        "# !pip install editdistance\n",
        "!pip install -q pandas"
      ],
      "metadata": {
        "id": "J8znFuZTzwoS",
        "colab": {
          "base_uri": "https://localhost:8080/"
        },
        "outputId": "40c53a00-6a6c-4175-82db-c07daaf43547"
      },
      "execution_count": 2,
      "outputs": [
        {
          "output_type": "stream",
          "name": "stdout",
          "text": [
            "Requirement already satisfied: pandas in /usr/local/lib/python3.10/dist-packages (2.2.2)\n",
            "Requirement already satisfied: numpy>=1.22.4 in /usr/local/lib/python3.10/dist-packages (from pandas) (1.26.4)\n",
            "Requirement already satisfied: python-dateutil>=2.8.2 in /usr/local/lib/python3.10/dist-packages (from pandas) (2.8.2)\n",
            "Requirement already satisfied: pytz>=2020.1 in /usr/local/lib/python3.10/dist-packages (from pandas) (2024.2)\n",
            "Requirement already satisfied: tzdata>=2022.7 in /usr/local/lib/python3.10/dist-packages (from pandas) (2024.2)\n",
            "Requirement already satisfied: six>=1.5 in /usr/local/lib/python3.10/dist-packages (from python-dateutil>=2.8.2->pandas) (1.16.0)\n"
          ]
        }
      ]
    },
    {
      "cell_type": "code",
      "source": [
        "# NOTE: you CAN change this cell\n",
        "# import your library here\n",
        "import time\n",
        "import numpy as np\n",
        "import pandas as pd\n",
        "import re"
      ],
      "metadata": {
        "id": "AodaIxYa32hT"
      },
      "execution_count": 5,
      "outputs": []
    },
    {
      "cell_type": "code",
      "source": [
        "# NOTE: you MUST change this cell\n",
        "# New methods / functions must be written under class Solution.\n",
        "class Solution:\n",
        "    def __init__(self):\n",
        "        # list provice, district, ward for private test, do not change for any reason\n",
        "\n",
        "        self.province_path = 'list_province.txt'\n",
        "        self.district_path = 'list_district.txt'\n",
        "        self.ward_path = 'list_ward.txt'\n",
        "\n",
        "        # write your preprocess here, add more method if needed\n",
        "        def read_text_db(self, file_path):\n",
        "            lines_list = []\n",
        "            with open(file_path, \"r\", encoding=\"utf-8\") as file:\n",
        "                lines_list = file.readlines()\n",
        "            lines_list = [line.strip() for line in lines_list]\n",
        "            return lines_list\n",
        "        self.list_province = read_text_db(self, self.province_path)\n",
        "        self.list_district = read_text_db(self, self.district_path)\n",
        "        self.list_ward = read_text_db(self, self.ward_path)\n",
        "        self.df_address = pd.read_csv('database.csv')\n",
        "        self.df_address = self.df_address.fillna('')\n",
        "        self.df_address['ward_clean'] = self.df_address['ward'].str.lower().str.replace(r'[^0-9a-zàáâãèéêìíòóôõùúýăđĩũơưạảấầẩẫậắằẳẵặẹẻẽếềểễệỉịọỏốồổỗộớờởỡợụủứừửữựỳỵỷỹ]', '', regex=True)\n",
        "        self.df_address['district_clean'] = self.df_address['district'].str.lower().str.replace(r'[^0-9a-zàáâãèéêìíòóôõùúýăđĩũơưạảấầẩẫậắằẳẵặẹẻẽếềểễệỉịọỏốồổỗộớờởỡợụủứừửữựỳỵỷỹ]', '', regex=True)\n",
        "        self.df_address['province_clean'] = self.df_address['province'].str.lower().str.replace(r'[^0-9a-zàáâãèéêìíòóôõùúýăđĩũơưạảấầẩẫậắằẳẵặẹẻẽếềểễệỉịọỏốồổỗộớờởỡợụủứừửữựỳỵỷỹ]', '', regex=True)\n",
        "\n",
        "        self.df_address['ward_district'] = (self.df_address['ward_clean'] + self.df_address['district_clean'])\n",
        "        self.df_address['ward_province'] = (self.df_address['ward_clean'] + self.df_address['province_clean'])\n",
        "        self.df_address['district_province'] = (self.df_address['district_clean'] + self.df_address['province_clean'])\n",
        "        self.df_address['address'] = (self.df_address['ward_clean'] + self.df_address['district_clean'] + self.df_address['province_clean'])\n",
        "\n",
        "        self.df_address['bigram_ward'] = [set(row[i:i+2] for i in range(len(row) - 1)) for row in self.df_address['ward_clean']]\n",
        "        self.df_address['bigram_district'] = [set(row[i:i+2] for i in range(len(row) - 1)) for row in self.df_address['district_clean']]\n",
        "        self.df_address['bigram_province'] = [set(row[i:i+2] for i in range(len(row) - 1)) for row in self.df_address['province_clean']]\n",
        "\n",
        "        self.df_address['bigram_ward_district'] = [set(row[i:i+2] for i in range(len(row) - 1)) for row in self.df_address['ward_district']]\n",
        "        self.df_address['bigram_ward_province'] = [set(row[i:i+2] for i in range(len(row) - 1)) for row in self.df_address['ward_province']]\n",
        "        self.df_address['bigram_district_province'] = [set(row[i:i+2] for i in range(len(row) - 1)) for row in self.df_address['district_province']]\n",
        "        self.df_address['bigram_db'] = [set(row[i:i+2] for i in range(len(row) - 1)) for row in self.df_address['address']]\n",
        "        pass\n",
        "\n",
        "    def sorensen_dice_coefficient(self, bigrams1, bigrams2):\n",
        "        \"\"\"Calculate Sørensen-Dice similarity between two bigram sets.\"\"\"\n",
        "        # intersection = len(bigrams1.intersection(bigrams2))\n",
        "        intersection = len(bigrams1 & bigrams2)\n",
        "        size1 = len(bigrams1)\n",
        "        size2 = len(bigrams2)\n",
        "        return (2 * intersection) / (size1 + size2) if size1 + size2 > 0 else 0.0\n",
        "\n",
        "    def process(self, s: str):\n",
        "        # write your process string here\n",
        "        _input = re.sub(r'[^0-9a-zàáâãèéêìíòóôõùúýăđĩũơưạảấầẩẫậắằẳẵặẹẻẽếềểễệỉịọỏốồổỗộớờởỡợụủứừửữựỳỵỷỹ]', '', s.lower())\n",
        "        bigram_input = set(_input[i:i+2] for i in range(len(_input) - 1))\n",
        "        self.df_address['similarity'] = [self.sorensen_dice_coefficient(bigram_input, row) for row in self.df_address['bigram_db']]\n",
        "        index_max_coef = self.df_address['similarity'].idxmax()\n",
        "\n",
        "        result_ward = self.df_address.iloc[index_max_coef,0]\n",
        "        result_district = self.df_address.iloc[index_max_coef,1]\n",
        "        result_province = self.df_address.iloc[index_max_coef,2]\n",
        "\n",
        "        similarity_ward_district = self.sorensen_dice_coefficient(self.df_address.iloc[index_max_coef]['bigram_ward_district'], bigram_input)\n",
        "        similarity_ward_province = self.sorensen_dice_coefficient(self.df_address.iloc[index_max_coef]['bigram_ward_province'], bigram_input)\n",
        "        similarity_district_province = self.sorensen_dice_coefficient(self.df_address.iloc[index_max_coef]['bigram_district_province'], bigram_input)\n",
        "        similarity_address = self.df_address.iloc[index_max_coef]['similarity']\n",
        "\n",
        "        max_similarity = max(similarity_ward_province, similarity_district_province, similarity_address)\n",
        "        if similarity_district_province >= max_similarity:\n",
        "            result_ward = \"\"\n",
        "        elif similarity_ward_province >= max_similarity:\n",
        "            result_district = \"\"\n",
        "        elif similarity_ward_district >= max_similarity:\n",
        "            result_province = \"\"\n",
        "\n",
        "        return {\n",
        "            \"province\": result_province,\n",
        "            \"district\": result_district,\n",
        "            \"ward\": result_ward,\n",
        "        }"
      ],
      "metadata": {
        "id": "xtwG3tBDzMLD"
      },
      "execution_count": 23,
      "outputs": []
    },
    {
      "cell_type": "code",
      "source": [
        "# NOTE: DO NOT change this cell\n",
        "# This cell is for downloading private test\n",
        "!rm -rf test.json\n",
        "# this link is public test\n",
        "!gdown --fuzzy https://drive.google.com/file/d/1PBt3U9I3EH885CDhcXspebyKI5Vw6uLB/view?usp=sharing -O test.json"
      ],
      "metadata": {
        "id": "7Sdb3ddTr1Jz",
        "colab": {
          "base_uri": "https://localhost:8080/"
        },
        "outputId": "8c27b7b1-64ff-4cd6-9493-b126b9e67c23"
      },
      "execution_count": 14,
      "outputs": [
        {
          "output_type": "stream",
          "name": "stdout",
          "text": [
            "Downloading...\n",
            "From: https://drive.google.com/uc?id=1PBt3U9I3EH885CDhcXspebyKI5Vw6uLB\n",
            "To: /content/test.json\n",
            "\r  0% 0.00/79.4k [00:00<?, ?B/s]\r100% 79.4k/79.4k [00:00<00:00, 4.42MB/s]\n"
          ]
        }
      ]
    },
    {
      "cell_type": "code",
      "source": [
        "# NOTE: DO NOT change this cell\n",
        "# This cell is for scoring\n",
        "\n",
        "TEAM_NAME = 'TEAM_2'  # This should be your team name\n",
        "EXCEL_FILE = f'{TEAM_NAME}.xlsx'\n",
        "\n",
        "import json\n",
        "import time\n",
        "with open('test.json') as f:\n",
        "    data = json.load(f)\n",
        "\n",
        "summary_only = True\n",
        "df = []\n",
        "solution = Solution()\n",
        "timer = []\n",
        "correct = 0\n",
        "for test_idx, data_point in enumerate(data):\n",
        "    address = data_point[\"text\"]\n",
        "\n",
        "    ok = 0\n",
        "    try:\n",
        "        start = time.perf_counter_ns()\n",
        "        result = solution.process(address)\n",
        "        answer = data_point[\"result\"]\n",
        "        finish = time.perf_counter_ns()\n",
        "        timer.append(finish - start)\n",
        "        ok += int(answer[\"province\"] == result[\"province\"])\n",
        "        ok += int(answer[\"district\"] == result[\"district\"])\n",
        "        ok += int(answer[\"ward\"] == result[\"ward\"])\n",
        "        df.append([\n",
        "            test_idx,\n",
        "            address,\n",
        "            answer[\"province\"],\n",
        "            result[\"province\"],\n",
        "            int(answer[\"province\"] == result[\"province\"]),\n",
        "            answer[\"district\"],\n",
        "            result[\"district\"],\n",
        "            int(answer[\"district\"] == result[\"district\"]),\n",
        "            answer[\"ward\"],\n",
        "            result[\"ward\"],\n",
        "            int(answer[\"ward\"] == result[\"ward\"]),\n",
        "            ok,\n",
        "            timer[-1] / 1_000_000_000,\n",
        "        ])\n",
        "    except Exception as e:\n",
        "        df.append([\n",
        "            test_idx,\n",
        "            address,\n",
        "            answer[\"province\"],\n",
        "            \"EXCEPTION\",\n",
        "            0,\n",
        "            answer[\"district\"],\n",
        "            \"EXCEPTION\",\n",
        "            0,\n",
        "            answer[\"ward\"],\n",
        "            \"EXCEPTION\",\n",
        "            0,\n",
        "            0,\n",
        "            0,\n",
        "        ])\n",
        "        # any failure count as a zero correct\n",
        "        pass\n",
        "    correct += ok\n",
        "\n",
        "\n",
        "    if not summary_only:\n",
        "        # responsive stuff\n",
        "        print(f\"Test {test_idx:5d}/{len(data):5d}\")\n",
        "        print(f\"Correct: {ok}/3\")\n",
        "        print(f\"Time Executed: {timer[-1] / 1_000_000_000:.4f}\")\n",
        "\n",
        "\n",
        "print(f\"-\"*30)\n",
        "total = len(data) * 3\n",
        "score_scale_10 = round(correct / total * 10, 2)\n",
        "if len(timer) == 0:\n",
        "    timer = [0]\n",
        "max_time_sec = round(max(timer) / 1_000_000_000, 4)\n",
        "avg_time_sec = round((sum(timer) / len(timer)) / 1_000_000_000, 4)\n",
        "\n",
        "import pandas as pd\n",
        "\n",
        "df2 = pd.DataFrame(\n",
        "    [[correct, total, score_scale_10, max_time_sec, avg_time_sec]],\n",
        "    columns=['correct', 'total', 'score / 10', 'max_time_sec', 'avg_time_sec',],\n",
        ")\n",
        "\n",
        "columns = [\n",
        "    'ID',\n",
        "    'text',\n",
        "    'province',\n",
        "    'province_student',\n",
        "    'province_correct',\n",
        "    'district',\n",
        "    'district_student',\n",
        "    'district_correct',\n",
        "    'ward',\n",
        "    'ward_student',\n",
        "    'ward_correct',\n",
        "    'total_correct',\n",
        "    'time_sec',\n",
        "]\n",
        "\n",
        "df = pd.DataFrame(df)\n",
        "df.columns = columns\n",
        "\n",
        "print(f'{TEAM_NAME = }')\n",
        "print(f'{EXCEL_FILE = }')\n",
        "print(df2)\n",
        "\n",
        "!pip install xlsxwriter\n",
        "writer = pd.ExcelWriter(EXCEL_FILE, engine='xlsxwriter')\n",
        "df2.to_excel(writer, index=False, sheet_name='summary')\n",
        "df.to_excel(writer, index=False, sheet_name='details')\n",
        "writer.close()\n"
      ],
      "metadata": {
        "colab": {
          "base_uri": "https://localhost:8080/"
        },
        "id": "hjO6FFcA0DYi",
        "outputId": "79a2fa7b-3cdf-498f-db70-27b8d6166516"
      },
      "execution_count": 26,
      "outputs": [
        {
          "output_type": "stream",
          "name": "stdout",
          "text": [
            "------------------------------\n",
            "TEAM_NAME = 'TEAM_2'\n",
            "EXCEL_FILE = 'TEAM_2.xlsx'\n",
            "   correct  total  score / 10  max_time_sec  avg_time_sec\n",
            "0     1217   1350        9.01        0.0536        0.0146\n",
            "Requirement already satisfied: xlsxwriter in /usr/local/lib/python3.10/dist-packages (3.2.0)\n"
          ]
        }
      ]
    }
  ]
}